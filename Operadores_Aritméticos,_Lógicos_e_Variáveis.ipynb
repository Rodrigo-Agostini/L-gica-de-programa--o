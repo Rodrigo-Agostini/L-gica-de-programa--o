{
  "nbformat": 4,
  "nbformat_minor": 0,
  "metadata": {
    "colab": {
      "provenance": []
    },
    "kernelspec": {
      "name": "python3",
      "display_name": "Python 3"
    },
    "language_info": {
      "name": "python"
    }
  },
  "cells": [
    {
      "cell_type": "markdown",
      "source": [
        "#Operadores Aritméticos"
      ],
      "metadata": {
        "id": "_nwHxwk0Pvdn"
      }
    },
    {
      "cell_type": "code",
      "execution_count": null,
      "metadata": {
        "colab": {
          "base_uri": "https://localhost:8080/"
        },
        "id": "s09n7m7FOlTE",
        "outputId": "10cd0839-3a75-40ff-bf56-cc011cafad09"
      },
      "outputs": [
        {
          "output_type": "execute_result",
          "data": {
            "text/plain": [
              "7"
            ]
          },
          "metadata": {},
          "execution_count": 7
        }
      ],
      "source": [
        "#Adição\n",
        "5+2"
      ]
    },
    {
      "cell_type": "code",
      "source": [
        "#Subtração\n",
        "5-2"
      ],
      "metadata": {
        "colab": {
          "base_uri": "https://localhost:8080/"
        },
        "id": "R0yQdq3OQLOF",
        "outputId": "b4219ab1-f9c0-4e2b-c76c-88ef152145ae"
      },
      "execution_count": null,
      "outputs": [
        {
          "output_type": "execute_result",
          "data": {
            "text/plain": [
              "3"
            ]
          },
          "metadata": {},
          "execution_count": 6
        }
      ]
    },
    {
      "cell_type": "code",
      "source": [
        "#Multiplicação\n",
        "5*2"
      ],
      "metadata": {
        "colab": {
          "base_uri": "https://localhost:8080/"
        },
        "id": "GRmvqcE2QPei",
        "outputId": "7705d565-20e4-4bdb-f65c-0bb5e0cde25c"
      },
      "execution_count": null,
      "outputs": [
        {
          "output_type": "execute_result",
          "data": {
            "text/plain": [
              "10"
            ]
          },
          "metadata": {},
          "execution_count": 5
        }
      ]
    },
    {
      "cell_type": "code",
      "source": [
        "#Divisão\n",
        "5/2"
      ],
      "metadata": {
        "colab": {
          "base_uri": "https://localhost:8080/"
        },
        "id": "5eNRzop1QQ5o",
        "outputId": "596df893-d586-4981-f6ce-f063650cfc79"
      },
      "execution_count": null,
      "outputs": [
        {
          "output_type": "execute_result",
          "data": {
            "text/plain": [
              "2.5"
            ]
          },
          "metadata": {},
          "execution_count": 4
        }
      ]
    },
    {
      "cell_type": "code",
      "source": [
        "#Divisão Inteira\n",
        "5//2"
      ],
      "metadata": {
        "colab": {
          "base_uri": "https://localhost:8080/"
        },
        "id": "zXmMrE2fQRLp",
        "outputId": "4fb30d01-4be6-4fea-99ba-1e889fc8f929"
      },
      "execution_count": null,
      "outputs": [
        {
          "output_type": "execute_result",
          "data": {
            "text/plain": [
              "2"
            ]
          },
          "metadata": {},
          "execution_count": 1
        }
      ]
    },
    {
      "cell_type": "code",
      "source": [
        "#Resto da Divisão\n",
        "5%2"
      ],
      "metadata": {
        "colab": {
          "base_uri": "https://localhost:8080/"
        },
        "id": "zf7u3WhaQgW4",
        "outputId": "1a0eb4f6-1c59-42e0-b9df-f7d77f8434f0"
      },
      "execution_count": null,
      "outputs": [
        {
          "output_type": "execute_result",
          "data": {
            "text/plain": [
              "1"
            ]
          },
          "metadata": {},
          "execution_count": 2
        }
      ]
    },
    {
      "cell_type": "code",
      "source": [
        "#Potenciação\n",
        "5**2"
      ],
      "metadata": {
        "colab": {
          "base_uri": "https://localhost:8080/"
        },
        "id": "w5wmwidgQtQ1",
        "outputId": "325dd2a4-7e8c-4f23-8721-a0255ca3832b"
      },
      "execution_count": null,
      "outputs": [
        {
          "output_type": "execute_result",
          "data": {
            "text/plain": [
              "25"
            ]
          },
          "metadata": {},
          "execution_count": 3
        }
      ]
    },
    {
      "cell_type": "markdown",
      "source": [
        "#Operadores Relacionais"
      ],
      "metadata": {
        "id": "_LxEyKD3Q2hK"
      }
    },
    {
      "cell_type": "code",
      "source": [
        "#Menor\n",
        "10<2"
      ],
      "metadata": {
        "colab": {
          "base_uri": "https://localhost:8080/"
        },
        "id": "nBMzqbJ8Q8vr",
        "outputId": "23edb48a-62f7-45d4-8edf-66d670f01a8f"
      },
      "execution_count": null,
      "outputs": [
        {
          "output_type": "execute_result",
          "data": {
            "text/plain": [
              "False"
            ]
          },
          "metadata": {},
          "execution_count": 8
        }
      ]
    },
    {
      "cell_type": "code",
      "source": [
        "#Menor ou Igual\n",
        "10<=2"
      ],
      "metadata": {
        "colab": {
          "base_uri": "https://localhost:8080/"
        },
        "id": "-HzXZi-kQxnX",
        "outputId": "0a315639-56f6-4478-8a9d-3021d6a82720"
      },
      "execution_count": null,
      "outputs": [
        {
          "output_type": "execute_result",
          "data": {
            "text/plain": [
              "False"
            ]
          },
          "metadata": {},
          "execution_count": 9
        }
      ]
    },
    {
      "cell_type": "code",
      "source": [
        "#Maior\n",
        "10>2"
      ],
      "metadata": {
        "colab": {
          "base_uri": "https://localhost:8080/"
        },
        "id": "CkYfWH_4SJD_",
        "outputId": "68202db3-c631-41e8-8730-7de680bcfcee"
      },
      "execution_count": null,
      "outputs": [
        {
          "output_type": "execute_result",
          "data": {
            "text/plain": [
              "True"
            ]
          },
          "metadata": {},
          "execution_count": 10
        }
      ]
    },
    {
      "cell_type": "code",
      "source": [
        "#Maior ou Igual\n",
        "10>=2"
      ],
      "metadata": {
        "colab": {
          "base_uri": "https://localhost:8080/"
        },
        "id": "cDbG7xkLSJ5h",
        "outputId": "c5167e4f-20d3-40c8-dc63-bf9e203c93af"
      },
      "execution_count": null,
      "outputs": [
        {
          "output_type": "execute_result",
          "data": {
            "text/plain": [
              "True"
            ]
          },
          "metadata": {},
          "execution_count": 11
        }
      ]
    },
    {
      "cell_type": "code",
      "source": [
        "#Igual\n",
        "10==10"
      ],
      "metadata": {
        "colab": {
          "base_uri": "https://localhost:8080/"
        },
        "id": "qDMleTZNSLLX",
        "outputId": "7d4a7032-0290-4604-e277-a617ffcd1673"
      },
      "execution_count": null,
      "outputs": [
        {
          "output_type": "execute_result",
          "data": {
            "text/plain": [
              "True"
            ]
          },
          "metadata": {},
          "execution_count": 12
        }
      ]
    },
    {
      "cell_type": "code",
      "source": [
        "#Diferente\n",
        "10!=5"
      ],
      "metadata": {
        "colab": {
          "base_uri": "https://localhost:8080/"
        },
        "id": "7Kbdzo10SLVf",
        "outputId": "83723cd9-ce9f-4ce8-c405-fc25f2c5b2d4"
      },
      "execution_count": null,
      "outputs": [
        {
          "output_type": "execute_result",
          "data": {
            "text/plain": [
              "True"
            ]
          },
          "metadata": {},
          "execution_count": 13
        }
      ]
    },
    {
      "cell_type": "markdown",
      "source": [
        "#Operadores Lógicos\n",
        "\n",
        "* AND\n",
        "* OR\n",
        "* NOT\n",
        "\n",
        "##Tabela Verdade\n",
        "\n",
        " AND"
      ],
      "metadata": {
        "id": "fZOUL1qYTgiM"
      }
    },
    {
      "cell_type": "code",
      "source": [
        "print(10 > 2 and 4 > 6)    # V and F - F\n",
        "print(10 > 2 and 4 < 6)    # V and V - V\n",
        "print(10 < 2 and 4 > 6)    # F and F - F\n",
        "print(10 < 2 and 4 < 6)    # V and F - F\n"
      ],
      "metadata": {
        "colab": {
          "base_uri": "https://localhost:8080/"
        },
        "id": "O0RbgdodUOB8",
        "outputId": "1045b332-d220-4a86-ff91-69091a426e7e"
      },
      "execution_count": null,
      "outputs": [
        {
          "output_type": "stream",
          "name": "stdout",
          "text": [
            "False\n",
            "True\n",
            "False\n",
            "False\n"
          ]
        }
      ]
    },
    {
      "cell_type": "markdown",
      "source": [
        "## OR"
      ],
      "metadata": {
        "id": "5-MktuWQWOXp"
      }
    },
    {
      "cell_type": "code",
      "source": [
        "print(10 > 2 or 4 > 6)    # V or V or V\n",
        "print(10 > 2 or 4 < 6)    # V or F or V\n",
        "print(10 < 2 or 4 > 6)    # F or F or V\n",
        "print(10 < 2 or 4 < 6)    # F or F or F"
      ],
      "metadata": {
        "colab": {
          "base_uri": "https://localhost:8080/"
        },
        "id": "F4t_brhYWHmF",
        "outputId": "67441d90-1d6f-4840-dd7b-b826b059823f"
      },
      "execution_count": null,
      "outputs": [
        {
          "output_type": "stream",
          "name": "stdout",
          "text": [
            "True\n",
            "True\n",
            "False\n",
            "True\n"
          ]
        }
      ]
    },
    {
      "cell_type": "markdown",
      "source": [
        "##NOT"
      ],
      "metadata": {
        "id": "rRdos0JrYLfP"
      }
    },
    {
      "cell_type": "code",
      "source": [
        "not 10 > 2    #V not F"
      ],
      "metadata": {
        "colab": {
          "base_uri": "https://localhost:8080/"
        },
        "id": "WvU14_5xYK0I",
        "outputId": "15f34973-242e-46fc-d08b-b47e1b7d987b"
      },
      "execution_count": null,
      "outputs": [
        {
          "output_type": "execute_result",
          "data": {
            "text/plain": [
              "False"
            ]
          },
          "metadata": {},
          "execution_count": 17
        }
      ]
    },
    {
      "cell_type": "code",
      "source": [
        "not 10 < 2    #F not V"
      ],
      "metadata": {
        "colab": {
          "base_uri": "https://localhost:8080/"
        },
        "id": "UzS1vKJ2YqzK",
        "outputId": "e56bbfe7-d576-4f4d-9bfc-399b4d23b4ab"
      },
      "execution_count": null,
      "outputs": [
        {
          "output_type": "execute_result",
          "data": {
            "text/plain": [
              "True"
            ]
          },
          "metadata": {},
          "execution_count": 18
        }
      ]
    },
    {
      "cell_type": "markdown",
      "source": [
        "#Variáveis\n",
        "\n",
        "Variáveis estão alocadas em espaços da memória."
      ],
      "metadata": {
        "id": "JiqR3jy1Y4P_"
      }
    },
    {
      "cell_type": "code",
      "source": [
        "#Nome da variável é \"x\" que armazena o valor 10 na memória\n",
        "x = 10\n",
        "\n",
        "print(x) # Utilizar a referencia no nome atribuido"
      ],
      "metadata": {
        "id": "kyPR4wAAZB_5"
      },
      "execution_count": null,
      "outputs": []
    },
    {
      "cell_type": "markdown",
      "source": [
        "# Regras"
      ],
      "metadata": {
        "id": "0poBnw2Q_0sd"
      }
    },
    {
      "cell_type": "markdown",
      "source": [
        "**Case Sensitive**\n",
        "\n",
        "A != a\n",
        "\n",
        "**Boas Práticas Com Váriáveis**\n",
        "\n",
        "> Exemplo: Multiplicação de 2 números:\n",
        "\n",
        "Não Usar:\n",
        "\n",
        "*   Multiplicação\n",
        "*   MultiplicacaoDeDoisNumeros\n",
        "*   m\n",
        "\n",
        "Usar:\n",
        "\n",
        "\n",
        "*   multiplicacao\n",
        "*   mult\n",
        "*   mult_total (snake_case)\n",
        "\n",
        "\n",
        "\n"
      ],
      "metadata": {
        "id": "vQQfLZpf_5gi"
      }
    }
  ]
}